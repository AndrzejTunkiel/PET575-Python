{
 "cells": [
  {
   "cell_type": "code",
   "execution_count": 1,
   "metadata": {},
   "outputs": [],
   "source": [
    "import numpy as np\n",
    "from scipy.optimize import differential_evolution  #import differential evolution algorithm\n",
    "import seaborn as sns"
   ]
  },
  {
   "cell_type": "code",
   "execution_count": 2,
   "metadata": {},
   "outputs": [],
   "source": [
    "def travel1D(data):\n",
    "    [x1,x2,x3,x4] = data\n",
    "    start = 0\n",
    "    stop = 10\n",
    "    result = 0\n",
    "    sequence = [start, x1, x2, x3, x4, stop]\n",
    "    \n",
    "    for i in range(1, len(sequence)):\n",
    "        result = result + np.abs(sequence[i-1] - sequence[i])\n",
    "        \n",
    "    return result"
   ]
  },
  {
   "cell_type": "code",
   "execution_count": 3,
   "metadata": {},
   "outputs": [],
   "source": [
    "bounds = [(0,10),(0,10),(0,10),(0,10)]\n",
    "result = differential_evolution(travel1D, bounds)"
   ]
  },
  {
   "cell_type": "code",
   "execution_count": 4,
   "metadata": {},
   "outputs": [
    {
     "data": {
      "text/plain": [
       "     fun: 10.0\n",
       " message: 'Optimization terminated successfully.'\n",
       "    nfev: 905\n",
       "     nit: 14\n",
       " success: True\n",
       "       x: array([0.56359633, 2.75921638, 7.3179969 , 7.58542261])"
      ]
     },
     "execution_count": 4,
     "metadata": {},
     "output_type": "execute_result"
    }
   ],
   "source": [
    "result"
   ]
  },
  {
   "cell_type": "code",
   "execution_count": 5,
   "metadata": {},
   "outputs": [],
   "source": [
    "def travel2D(data):\n",
    "    xy_data = [[0],[0]]\n",
    "    \n",
    "    for i in range(len(data)):\n",
    "        if i%2 == 0:\n",
    "            xy_data[0].append(data[i])\n",
    "        else:\n",
    "            xy_data[1].append(data[i])\n",
    "            \n",
    "    xy_data[0].append(1)\n",
    "    xy_data[1].append(1)\n",
    "    \n",
    "    cost = 0\n",
    "    \n",
    "    for i in range(1, len(xy_data[0])):\n",
    "        cost = cost + np.sqrt((xy_data[0][i]-xy_data[0][i-1])**2+(xy_data[1][i]-xy_data[1][i-1])**2)**2\n",
    "        \n",
    "    \n",
    "    return cost"
   ]
  },
  {
   "cell_type": "code",
   "execution_count": 6,
   "metadata": {},
   "outputs": [
    {
     "name": "stderr",
     "output_type": "stream",
     "text": [
      "C:\\Users\\2921228\\AppData\\Local\\Continuum\\anaconda3\\lib\\site-packages\\scipy\\optimize\\_differentialevolution.py:901: RuntimeWarning: invalid value encountered in true_divide\n",
      "  return (parameters - self.__scale_arg1) / self.__scale_arg2 + 0.5\n"
     ]
    }
   ],
   "source": [
    "bounds = [(0,1),(0,1),(0,1),(0,1),(0.2,0.2),(0.2,0.2),(0,1),(0,1),(0,1),(0,1),(0.2,0.2),(0.8,0.8),(0,1),(0,1),(0,1),(0,1),(0.3,0.3),(0.3,0.3),(0,1),(0,1)]\n",
    "result = differential_evolution(travel2D, bounds)"
   ]
  },
  {
   "cell_type": "code",
   "execution_count": 7,
   "metadata": {},
   "outputs": [
    {
     "name": "stdout",
     "output_type": "stream",
     "text": [
      "     fun: 0.7233333333335084\n",
      "     jac: array([-3.10862447e-07,  4.44089210e-08, -3.10862447e-07, -1.22124533e-07,\n",
      "        1.33334010e-01, -2.66666400e-01, -2.77555756e-07, -1.88737914e-07,\n",
      "       -3.66373598e-07, -8.88178420e-08, -6.66660505e-02,  7.33333683e-01,\n",
      "       -4.66293670e-07, -1.55431223e-07,  2.22044605e-07, -1.77635684e-07,\n",
      "       -6.33333319e-01, -1.03333311e+00,  6.66133815e-08, -2.22044605e-08])\n",
      " message: 'Optimization terminated successfully.'\n",
      "    nfev: 9168\n",
      "     nit: 29\n",
      " success: True\n",
      "       x: array([0.0666665 , 0.06666665, 0.13333317, 0.13333329, 0.2       ,\n",
      "       0.2       , 0.19999984, 0.39999991, 0.19999982, 0.59999993,\n",
      "       0.2       , 0.8       , 0.23333321, 0.63333324, 0.26666665,\n",
      "       0.46666657, 0.3       , 0.3       , 0.65000001, 0.64999999])\n"
     ]
    }
   ],
   "source": [
    "print(result)"
   ]
  },
  {
   "cell_type": "code",
   "execution_count": 8,
   "metadata": {},
   "outputs": [],
   "source": [
    "def d(data):\n",
    "    xy_data = [[0],[0]]\n",
    "    \n",
    "    for i in range(len(data)):\n",
    "        if i%2 == 0:\n",
    "            xy_data[0].append(data[i])\n",
    "        else:\n",
    "            xy_data[1].append(data[i])\n",
    "            \n",
    "    xy_data[0].append(1)\n",
    "    xy_data[1].append(1)\n",
    "    \n",
    "    cost = 0\n",
    "    \n",
    "    for i in range(1, len(xy_data[0])):\n",
    "        cost = cost + np.sqrt((xy_data[0][i]-xy_data[0][i-1])**2+(xy_data[1][i]-xy_data[1][i-1])**2)**2\n",
    "        \n",
    "    \n",
    "    return xy_data"
   ]
  },
  {
   "cell_type": "code",
   "execution_count": 9,
   "metadata": {},
   "outputs": [
    {
     "data": {
      "text/plain": [
       "<matplotlib.axes._subplots.AxesSubplot at 0x202d2ccaeb8>"
      ]
     },
     "execution_count": 9,
     "metadata": {},
     "output_type": "execute_result"
    },
    {
     "data": {
      "image/png": "[encoded data removed]",
      "text/plain": [
       "<Figure size 432x288 with 1 Axes>"
      ]
     },
     "metadata": {
      "needs_background": "light"
     },
     "output_type": "display_data"
    }
   ],
   "source": [
    "data = d([0.06666657, 0.06666684, 0.13333327, 0.13333354, 0.2       ,\n",
    "       0.2       , 0.19999997, 0.40000031, 0.19999992, 0.60000019,\n",
    "       0.2       , 0.8       , 0.23333309, 0.63333356, 0.26666648,\n",
    "       0.46666693, 0.3       , 0.3       , 0.65000003, 0.65000016])\n",
    "sns.scatterplot(x = data[0], y=data[1])"
   ]
  },
  {
   "cell_type": "code",
   "execution_count": 10,
   "metadata": {},
   "outputs": [
    {
     "name": "stdout",
     "output_type": "stream",
     "text": [
      "135.0\n"
     ]
    }
   ],
   "source": [
    "P2x = 0\n",
    "P2y = -1\n",
    "\n",
    "P1x = 0\n",
    "P1y = 0\n",
    "\n",
    "P3x = 1\n",
    "P3y = 1\n",
    "\n",
    "rad = np.arctan2(P3y - P1y, P3x - P1x) - np.arctan2(P2y - P1y, P2x - P1x)\n",
    "print (rad/2/np.pi*360)"
   ]
  },
  {
   "cell_type": "code",
   "execution_count": 11,
   "metadata": {},
   "outputs": [],
   "source": [
    "def t2Da(data):\n",
    "    xy_data = [[0,0],[-1,0]]\n",
    "    \n",
    "    for i in range(len(data)):\n",
    "        if i%2 == 0:\n",
    "            xy_data[0].append(data[i])\n",
    "        else:\n",
    "            xy_data[1].append(data[i])\n",
    "            \n",
    "    xy_data[0].append(1)\n",
    "    xy_data[1].append(1)\n",
    "    xy_data[0].append(2)\n",
    "    xy_data[1].append(1)\n",
    "    \n",
    "    cost = 0\n",
    "    \n",
    "    for i in range(2, len(xy_data[0])):\n",
    "        \n",
    "        P2x = xy_data[0][i-2]\n",
    "        P2y = xy_data[1][i-2]\n",
    "\n",
    "        P1x = xy_data[0][i-1]\n",
    "        P1y = xy_data[1][i-1]\n",
    "\n",
    "        P3x = xy_data[0][i]\n",
    "        P3y = xy_data[1][i]\n",
    "\n",
    "        rad = np.arctan2(P3y - P1y, P3x - P1x) - np.arctan2(P2y - P1y, P2x - P1x)\n",
    "        deg = 180 - np.abs(rad/2/np.pi*360)\n",
    "        \n",
    "        if deg >= 180:\n",
    "            deg = deg - 180\n",
    "\n",
    "        \n",
    "        cost = cost  + deg**2\n",
    "\n",
    "\n",
    "    return cost"
   ]
  },
  {
   "cell_type": "code",
   "execution_count": 19,
   "metadata": {},
   "outputs": [
    {
     "data": {
      "text/plain": [
       "     fun: 1012.5000000668606\n",
       "     jac: array([ 0.00180762, -0.00389946,  0.02468141, -0.02046363, -0.09086989,\n",
       "        0.07744347,  0.04738467, -0.04635012,  0.01135732, -0.02368097,\n",
       "        0.01799663, -0.10852546])\n",
       " message: 'Optimization terminated successfully.'\n",
       "    nfev: 84617\n",
       "     nit: 467\n",
       " success: True\n",
       "       x: array([0.02364218, 0.11885858, 0.09592931, 0.2933769 , 0.2499569 ,\n",
       "       0.52389757, 0.43676369, 0.71070524, 0.75301395, 0.92201829,\n",
       "       0.88702267, 0.97752705])"
      ]
     },
     "execution_count": 19,
     "metadata": {},
     "output_type": "execute_result"
    }
   ],
   "source": [
    "n=4 #how many points?\n",
    "bounds = []\n",
    "for i in range(n*2):\n",
    "    bounds.append((0,1))\n",
    "    \n",
    "result = differential_evolution(t2Da, bounds, maxiter=1000000)\n",
    "\n",
    "result"
   ]
  },
  {
   "cell_type": "code",
   "execution_count": 20,
   "metadata": {},
   "outputs": [],
   "source": [
    "def dt2Da(data):\n",
    "    xy_data = [[0,0],[-1,0]]\n",
    "    \n",
    "    for i in range(len(data)):\n",
    "        if i%2 == 0:\n",
    "            xy_data[0].append(data[i])\n",
    "        else:\n",
    "            xy_data[1].append(data[i])\n",
    "            \n",
    "    xy_data[0].append(1)\n",
    "    xy_data[1].append(1)\n",
    "    xy_data[0].append(2)\n",
    "    xy_data[1].append(1)\n",
    "    \n",
    "    \n",
    "    return xy_data"
   ]
  },
  {
   "cell_type": "code",
   "execution_count": 21,
   "metadata": {},
   "outputs": [
    {
     "name": "stdout",
     "output_type": "stream",
     "text": [
      "0 0 0 -1 0.02364218336965877 0.11885858486501942\n",
      "11.249879840930816\n",
      "126.55979643538157\n",
      "0.02364218336965877 0.11885858486501942 0 0 0.09592930742703329 0.29337689893472557\n",
      "11.249916008716639\n",
      "253.1204066385605\n",
      "0.09592930742703329 0.29337689893472557 0.02364218336965877 0.11885858486501942 0.24995689945031982 0.5238975716423719\n",
      "11.249964086030872\n",
      "379.68209857554496\n",
      "0.24995689945031982 0.5238975716423719 0.09592930742703329 0.29337689893472557 0.4367636933906944 0.7107052446467939\n",
      "11.250105255141904\n",
      "506.24696682731644\n",
      "0.4367636933906944 0.7107052446467939 0.24995689945031982 0.5238975716423719 0.7530139503289541 0.9220182885787864\n",
      "11.249962211162853\n",
      "632.8086165799086\n",
      "0.7530139503289541 0.9220182885787864 0.4367636933906944 0.7107052446467939 0.8870226696328899 0.977527052940331\n",
      "11.249977228347802\n",
      "759.3706042182528\n",
      "0.8870226696328899 0.977527052940331 0.7530139503289541 0.9220182885787864 1 1\n",
      "11.250020324198857\n",
      "885.9335615131401\n",
      "1 1 0.8870226696328899 0.977527052940331 2 1\n",
      "11.2501750454702\n",
      "1012.5000000668606\n"
     ]
    },
    {
     "data": {
      "text/plain": [
       "<matplotlib.axes._subplots.AxesSubplot at 0x202d40ebf60>"
      ]
     },
     "execution_count": 21,
     "metadata": {},
     "output_type": "execute_result"
    },
    {
     "data": {
      "image/png": "[encoded data removed]",
      "text/plain": [
       "<Figure size 432x288 with 1 Axes>"
      ]
     },
     "metadata": {
      "needs_background": "light"
     },
     "output_type": "display_data"
    }
   ],
   "source": [
    "data = dt2Da(result.x)\n",
    "sns.scatterplot(x = data[0], y=data[1])"
   ]
  },
  {
   "cell_type": "code",
   "execution_count": null,
   "metadata": {},
   "outputs": [],
   "source": []
  },
  {
   "cell_type": "code",
   "execution_count": null,
   "metadata": {},
   "outputs": [],
   "source": []
  },
  {
   "cell_type": "code",
   "execution_count": null,
   "metadata": {},
   "outputs": [],
   "source": []
  },
  {
   "cell_type": "code",
   "execution_count": null,
   "metadata": {},
   "outputs": [],
   "source": []
  }
 ],
 "metadata": {
  "kernelspec": {
   "display_name": "Python 3",
   "language": "python",
   "name": "python3"
  },
  "language_info": {
   "codemirror_mode": {
    "name": "ipython",
    "version": 3
   },
   "file_extension": ".py",
   "mimetype": "text/x-python",
   "name": "python",
   "nbconvert_exporter": "python",
   "pygments_lexer": "ipython3",
   "version": "3.7.3"
  }
 },
 "nbformat": 4,
 "nbformat_minor": 2
}
